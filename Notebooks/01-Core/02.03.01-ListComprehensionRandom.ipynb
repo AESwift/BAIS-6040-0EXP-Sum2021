{
 "cells": [
  {
   "cell_type": "markdown",
   "metadata": {
    "collapsed": true,
    "pycharm": {
     "name": "#%% md\n"
    }
   },
   "source": []
  },
  {
   "cell_type": "markdown",
   "source": [
    "# 02.03.01 - List Comprehension and Random\n",
    "\n",
    "## Description\n",
    "\n",
    "Two recurring things we'll see in this course is the concept of Random, and the creation of data structures (namely list).  This notebook introduces both to you, and why we use it.\n",
    "\n",
    "# Random\n",
    "\n",
    "What makes Python so powerful (like other languages) are the libraries.  One very common library we'll use is the random library.  Libraries, in a more general sense are covered later in thsi course, but we'll cover Random specifically here."
   ],
   "metadata": {
    "collapsed": false
   }
  },
  {
   "cell_type": "code",
   "execution_count": 1,
   "outputs": [],
   "source": [
    "import random as rnd   # A standard way of importing random"
   ],
   "metadata": {
    "collapsed": false,
    "pycharm": {
     "name": "#%%\n"
    }
   }
  },
  {
   "cell_type": "markdown",
   "source": [
    "Before pulling random variables, we want to seed the random number generator.  This will\n",
    "allow us to have a starting spot for the random numbers we'll later pull.  It accepts any integer value.\n",
    "\n",
    "We can then use randint to pull an integer between 0, 10"
   ],
   "metadata": {
    "collapsed": false,
    "pycharm": {
     "name": "#%% md\n"
    }
   }
  },
  {
   "cell_type": "code",
   "execution_count": 2,
   "outputs": [
    {
     "name": "stdout",
     "output_type": "stream",
     "text": [
      "0\n",
      "7\n",
      "6\n",
      "5\n",
      "8\n"
     ]
    }
   ],
   "source": [
    "rnd.seed(1024)\n",
    "print(rnd.randint(0, 10))\n",
    "print(rnd.randint(0, 10))\n",
    "print(rnd.randint(0, 10))\n",
    "print(rnd.randint(0, 10))\n",
    "print(rnd.randint(0, 10))"
   ],
   "metadata": {
    "collapsed": false,
    "pycharm": {
     "name": "#%%\n"
    }
   }
  },
  {
   "cell_type": "markdown",
   "source": [
    "A common use for random is if we want to generate a list of random integers.  Something to beware of in this regard is if you call `rnd.seed()` once again, it'll reset the random number generator.  Pay attention to the output of the below vs the above."
   ],
   "metadata": {
    "collapsed": false,
    "pycharm": {
     "name": "#%% md\n"
    }
   }
  },
  {
   "cell_type": "code",
   "execution_count": 3,
   "outputs": [
    {
     "name": "stdout",
     "output_type": "stream",
     "text": [
      "0\n",
      "7\n",
      "6\n",
      "5\n",
      "8\n"
     ]
    }
   ],
   "source": [
    "rnd.seed(1024)\n",
    "x = 0\n",
    "while x < 5:\n",
    "    print(rnd.randint(0, 10))\n",
    "    x+= 1"
   ],
   "metadata": {
    "collapsed": false,
    "pycharm": {
     "name": "#%%\n"
    }
   }
  },
  {
   "cell_type": "markdown",
   "source": [
    "Lets generate a list of random values now.  We'll generate 10 random values in two different ways, and assign these to lists.  Both work fine."
   ],
   "metadata": {
    "collapsed": false,
    "pycharm": {
     "name": "#%% md\n"
    }
   }
  },
  {
   "cell_type": "code",
   "execution_count": 4,
   "outputs": [
    {
     "data": {
      "text/plain": "[0, 7, 6, 5, 8, 1, 7, 8, 5, 5]"
     },
     "execution_count": 4,
     "metadata": {},
     "output_type": "execute_result"
    }
   ],
   "source": [
    "rnd.seed(1024)\n",
    "x = 0\n",
    "randomList = []\n",
    "while x < 10:\n",
    "    randomList.append(rnd.randint(0, 10))\n",
    "    x += 1\n",
    "randomList"
   ],
   "metadata": {
    "collapsed": false,
    "pycharm": {
     "name": "#%%\n"
    }
   }
  },
  {
   "cell_type": "code",
   "execution_count": 5,
   "outputs": [
    {
     "data": {
      "text/plain": "[0, 7, 6, 5, 8, 1, 7, 8, 5, 5]"
     },
     "execution_count": 5,
     "metadata": {},
     "output_type": "execute_result"
    }
   ],
   "source": [
    "rnd.seed(1024)\n",
    "randomList = []\n",
    "for x in range(0,10):\n",
    "    randomList.append(rnd.randint(0, 10))\n",
    "randomList"
   ],
   "metadata": {
    "collapsed": false,
    "pycharm": {
     "name": "#%%\n"
    }
   }
  },
  {
   "cell_type": "markdown",
   "source": [
    "The two above options would be the most intuitive ways given what we learned so far.  I'll go over another option in the next section (List Comprehension), but I do want to highlight that in programming, there are often more than one way to \"skin the cat\".  The documentation surrounding random is at: https://docs.python.org/3/library/random.html\n",
    "\n",
    "It's a good idea to read through documentation like this when learning about new modules.  Let's take another option out of this to illustrate yet another way we can do it."
   ],
   "metadata": {
    "collapsed": false,
    "pycharm": {
     "name": "#%% md\n"
    }
   }
  },
  {
   "cell_type": "code",
   "execution_count": 6,
   "outputs": [
    {
     "data": {
      "text/plain": "[0, 7, 6, 5, 8, 4, 10, 3, 2, 1]"
     },
     "execution_count": 6,
     "metadata": {},
     "output_type": "execute_result"
    }
   ],
   "source": [
    "rnd.seed(1024)\n",
    "randomList = rnd.sample(range(0, 11), k=10)\n",
    "randomList"
   ],
   "metadata": {
    "collapsed": false,
    "pycharm": {
     "name": "#%%\n"
    }
   }
  },
  {
   "cell_type": "markdown",
   "source": [
    "A few things to note with the previous execution.  First, the numbers we get are different than the previous examples.  Why comes down to implementation.  You'll see the same issue when we hit NumPy later on too.  Just keep in mind that different implementation of random will give you different results.  But, the sample option is perfectly appropriate as a solution as well.  There are probably hundreds of other options, especially if we got to more secure options.\n",
    "\n",
    "# List Comprehension\n",
    "\n",
    "List Comprehension is a very useful way to quickly generate a list based off varying criterias.  We'll see some interesting stuff later.  The format for this is pretty simple.\n",
    "\n",
    "`[some_functionality for my_variable in my_iterable]`\n",
    "\n",
    "Let's go through some examples to clarify what the above means."
   ],
   "metadata": {
    "collapsed": false,
    "pycharm": {
     "name": "#%% md\n"
    }
   }
  },
  {
   "cell_type": "code",
   "execution_count": 7,
   "outputs": [
    {
     "data": {
      "text/plain": "[0, 7, 6, 5, 8, 1, 7, 8, 5, 5]"
     },
     "execution_count": 7,
     "metadata": {},
     "output_type": "execute_result"
    }
   ],
   "source": [
    "rnd.seed(1024)\n",
    "randomList = [rnd.randint(0, 10) for x in range(0, 10)]  # Check the format here like what the for loop # above does.\n",
    "randomList"
   ],
   "metadata": {
    "collapsed": false,
    "pycharm": {
     "name": "#%%\n"
    }
   }
  },
  {
   "cell_type": "code",
   "execution_count": 8,
   "outputs": [
    {
     "data": {
      "text/plain": "[0, 1, 2, 3, 4, 5, 6, 7, 8, 9]"
     },
     "execution_count": 8,
     "metadata": {},
     "output_type": "execute_result"
    }
   ],
   "source": [
    "[x for x in range(0, 10)]"
   ],
   "metadata": {
    "collapsed": false,
    "pycharm": {
     "name": "#%%\n"
    }
   }
  },
  {
   "cell_type": "markdown",
   "source": [
    "So note, the `some_functionality` part in my syntax also can be returned.  But, it can mean more than that.  Let's show some mathematical operations we can do on a list."
   ],
   "metadata": {
    "collapsed": false,
    "pycharm": {
     "name": "#%% md\n"
    }
   }
  },
  {
   "cell_type": "code",
   "execution_count": 9,
   "outputs": [
    {
     "data": {
      "text/plain": "[1, 2, 3, 4, 5, 6, 7, 8, 9, 10]"
     },
     "execution_count": 9,
     "metadata": {},
     "output_type": "execute_result"
    }
   ],
   "source": [
    "[x + 1 for x in range(0, 10)]"
   ],
   "metadata": {
    "collapsed": false,
    "pycharm": {
     "name": "#%%\n"
    }
   }
  },
  {
   "cell_type": "code",
   "execution_count": 10,
   "outputs": [
    {
     "data": {
      "text/plain": "[0, 5, 10, 15, 20, 25, 30, 35, 40, 45]"
     },
     "execution_count": 10,
     "metadata": {},
     "output_type": "execute_result"
    }
   ],
   "source": [
    "[x * 5 for x in range(0, 10)]\n"
   ],
   "metadata": {
    "collapsed": false,
    "pycharm": {
     "name": "#%%\n"
    }
   }
  },
  {
   "cell_type": "code",
   "execution_count": 11,
   "outputs": [
    {
     "data": {
      "text/plain": "[0, 1, 0, 1, 0, 1, 0, 1, 0, 1]"
     },
     "execution_count": 11,
     "metadata": {},
     "output_type": "execute_result"
    }
   ],
   "source": [
    "[x % 2 for x in range(0, 10)]  # Remember, True and 1 can be equivalent! as seen below"
   ],
   "metadata": {
    "collapsed": false,
    "pycharm": {
     "name": "#%%\n"
    }
   }
  },
  {
   "cell_type": "code",
   "execution_count": 12,
   "outputs": [
    {
     "data": {
      "text/plain": "[False, True, False, True, False, True, False, True, False, True]"
     },
     "execution_count": 12,
     "metadata": {},
     "output_type": "execute_result"
    }
   ],
   "source": [
    "[x % 2 == True for x in range(0, 10)]"
   ],
   "metadata": {
    "collapsed": false,
    "pycharm": {
     "name": "#%%\n"
    }
   }
  },
  {
   "cell_type": "markdown",
   "source": [
    "`map`, and List Comprehension can work in a similar fashion to each other.  Let's rewrite all the math operations above using map."
   ],
   "metadata": {
    "collapsed": false,
    "pycharm": {
     "name": "#%% md\n"
    }
   }
  },
  {
   "cell_type": "code",
   "execution_count": 13,
   "outputs": [
    {
     "data": {
      "text/plain": "[1, 2, 3, 4, 5, 6, 7, 8, 9, 10]"
     },
     "execution_count": 13,
     "metadata": {},
     "output_type": "execute_result"
    }
   ],
   "source": [
    "list(map(lambda x: x + 1, range(0, 10)))"
   ],
   "metadata": {
    "collapsed": false,
    "pycharm": {
     "name": "#%%\n"
    }
   }
  },
  {
   "cell_type": "code",
   "execution_count": 14,
   "outputs": [
    {
     "data": {
      "text/plain": "[0, 5, 10, 15, 20, 25, 30, 35, 40, 45]"
     },
     "execution_count": 14,
     "metadata": {},
     "output_type": "execute_result"
    }
   ],
   "source": [
    "list(map(lambda x: x * 5, range(0, 10)))"
   ],
   "metadata": {
    "collapsed": false,
    "pycharm": {
     "name": "#%%\n"
    }
   }
  },
  {
   "cell_type": "code",
   "execution_count": 15,
   "outputs": [
    {
     "data": {
      "text/plain": "[0, 1, 0, 1, 0, 1, 0, 1, 0, 1]"
     },
     "execution_count": 15,
     "metadata": {},
     "output_type": "execute_result"
    }
   ],
   "source": [
    "list(map(lambda x: x % 2, range(0, 10)))"
   ],
   "metadata": {
    "collapsed": false,
    "pycharm": {
     "name": "#%%\n"
    }
   }
  },
  {
   "cell_type": "code",
   "execution_count": 16,
   "outputs": [
    {
     "data": {
      "text/plain": "[False, True, False, True, False, True, False, True, False, True]"
     },
     "execution_count": 16,
     "metadata": {},
     "output_type": "execute_result"
    }
   ],
   "source": [
    "list(map(lambda x: x % 2 == True, range(0, 10)))"
   ],
   "metadata": {
    "collapsed": false,
    "pycharm": {
     "name": "#%%\n"
    }
   }
  },
  {
   "cell_type": "markdown",
   "source": [
    "Note with both of these, and just like a for loop, we don't need to use range only.  Lets generate a list of random numbers using list comprehension, then use that with another List Comprehension and map."
   ],
   "metadata": {
    "collapsed": false,
    "pycharm": {
     "name": "#%% md\n"
    }
   }
  },
  {
   "cell_type": "code",
   "execution_count": 17,
   "outputs": [
    {
     "name": "stdout",
     "output_type": "stream",
     "text": [
      "The random list is: [0, 7, 6, 5, 8, 1, 7, 8, 5, 5]\n",
      "The size of the list is: 10\n"
     ]
    }
   ],
   "source": [
    "rnd.seed(1024)\n",
    "randomList = [rnd.randint(0, 10) for x in range(0, 10)]\n",
    "print(f\"The random list is: {randomList}\")\n",
    "print(f\"The size of the list is: {len(randomList)}\")"
   ],
   "metadata": {
    "collapsed": false,
    "pycharm": {
     "name": "#%%\n"
    }
   }
  },
  {
   "cell_type": "code",
   "execution_count": 18,
   "outputs": [
    {
     "data": {
      "text/plain": "[0, 546, 468, 390, 624, 78, 546, 624, 390, 390]"
     },
     "execution_count": 18,
     "metadata": {},
     "output_type": "execute_result"
    }
   ],
   "source": [
    "[x * 78 for x in randomList]"
   ],
   "metadata": {
    "collapsed": false,
    "pycharm": {
     "name": "#%%\n"
    }
   }
  },
  {
   "cell_type": "code",
   "execution_count": 19,
   "outputs": [
    {
     "data": {
      "text/plain": "[0, 546, 468, 390, 624, 78, 546, 624, 390, 390]"
     },
     "execution_count": 19,
     "metadata": {},
     "output_type": "execute_result"
    }
   ],
   "source": [
    "list(map(lambda x: x * 78, randomList))"
   ],
   "metadata": {
    "collapsed": false,
    "pycharm": {
     "name": "#%%\n"
    }
   }
  },
  {
   "cell_type": "markdown",
   "source": [
    "Lets filter some elements from the above list, this revisits Flow Control a bit, but I'm hopeful the pieces will come together better here.  Let's take the map above and assign it to a variable, then filter off some criteria, in this case, anything divisible by 10"
   ],
   "metadata": {
    "collapsed": false,
    "pycharm": {
     "name": "#%% md\n"
    }
   }
  },
  {
   "cell_type": "code",
   "execution_count": 20,
   "outputs": [
    {
     "data": {
      "text/plain": "[True, False, False, True, False, False, False, False, True, True]"
     },
     "execution_count": 20,
     "metadata": {},
     "output_type": "execute_result"
    }
   ],
   "source": [
    "randomTimes = map(lambda x: x * 78, randomList)  # Note, list is for our benefit to read it, but we don't need it if we're using it later.\n",
    "[x % 10 == 0 for x in randomTimes]"
   ],
   "metadata": {
    "collapsed": false,
    "pycharm": {
     "name": "#%%\n"
    }
   }
  },
  {
   "cell_type": "code",
   "execution_count": 21,
   "outputs": [
    {
     "data": {
      "text/plain": "[True, False, False, True, False, False, False, False, True, True]"
     },
     "execution_count": 21,
     "metadata": {},
     "output_type": "execute_result"
    }
   ],
   "source": [
    "randomTimes = map(lambda x: x * 78, randomList)\n",
    "list(map(lambda x: x % 10 == 0, randomTimes))"
   ],
   "metadata": {
    "collapsed": false,
    "pycharm": {
     "name": "#%%\n"
    }
   }
  },
  {
   "cell_type": "code",
   "execution_count": 22,
   "outputs": [
    {
     "data": {
      "text/plain": "[0, 390, 390, 390]"
     },
     "execution_count": 22,
     "metadata": {},
     "output_type": "execute_result"
    }
   ],
   "source": [
    "# Now, lets use filter to pull the elements we care about.\n",
    "randomTimes = map(lambda x: x * 78, randomList)\n",
    "list(filter(lambda x: x % 10 == 0, randomTimes))"
   ],
   "metadata": {
    "collapsed": false,
    "pycharm": {
     "name": "#%%\n"
    }
   }
  },
  {
   "cell_type": "code",
   "execution_count": 22,
   "outputs": [],
   "source": [],
   "metadata": {
    "collapsed": false,
    "pycharm": {
     "name": "#%%\n"
    }
   }
  }
 ],
 "metadata": {
  "kernelspec": {
   "display_name": "Python 3",
   "language": "python",
   "name": "python3"
  },
  "language_info": {
   "codemirror_mode": {
    "name": "ipython",
    "version": 2
   },
   "file_extension": ".py",
   "mimetype": "text/x-python",
   "name": "python",
   "nbconvert_exporter": "python",
   "pygments_lexer": "ipython2",
   "version": "2.7.6"
  }
 },
 "nbformat": 4,
 "nbformat_minor": 0
}