{
 "cells": [
  {
   "cell_type": "markdown",
   "metadata": {
    "collapsed": true,
    "pycharm": {
     "name": "#%% md\n"
    }
   },
   "source": [
    "# Homework1.todo.ipynb\n",
    "\n",
    "## Purpose\n",
    "\n",
    "This homework is designed to introduce you to using Jupyter Notebooks.  You'll only have one Notebook to send in, but this homework is designed to give you an opportunity to get the required infrastructure setup and to start working with the notebooks.  We'll have fairly simple operators that'll be required to be used\n",
    "\n",
    "When reading these notebooks, remember to pay attention to the output that I'm providing to you.  The types are the most important, not so much the number.  Also, try to take in account the format of your notebook (structure), and the naming of your variables.  These components won't be weighted heavily this time around, but it's good practice.\n",
    "\n",
    "## Required Hand-in\n",
    "\n",
    "One notebook will be required to be handed in.  It must be in a Jupyter notebook format.  At the very minimum, you should use Anaconda and Jupyter Lab (or notebook).  You're more than welcome to use other solutions, as long as you can maintain it (such as Azure Data Studio, PyCharm, etc.)"
   ]
  },
  {
   "cell_type": "markdown",
   "source": [
    "# Part 1 - Getting to know Jupyter\n",
    "\n",
    "## Part 1.1\n",
    "Create a few variables.  Note we'll use these variables later.  Print out the variable name, value, and the type.  One example is provided, but please create at least 2 more off any one of the 4 types provided.  All three types should be different types.  You can do this in 3 cells, or in one.  Probably good to play with both to ensure you understand how to do a print statement along with other calls.\n",
    "\n",
    "To create other cells, note you can hit the \"+\" icon at the top of your window to create a new cell.  Remember to change it to a code type!"
   ],
   "metadata": {
    "collapsed": false,
    "pycharm": {
     "name": "#%% md\n"
    }
   }
  },
  {
   "cell_type": "code",
   "execution_count": 2,
   "outputs": [
    {
     "name": "stdout",
     "output_type": "stream",
     "text": [
      "The variable, myName, is defined as David Thole and is of type <class 'str'>\n"
     ]
    }
   ],
   "source": [
    "myName = \"David Thole\"\n",
    "print(f\"The variable, myName, is defined as {myName} and is of type {type(myName)}\")"
   ],
   "metadata": {
    "collapsed": false,
    "pycharm": {
     "name": "#%%\n"
    }
   }
  },
  {
   "cell_type": "markdown",
   "source": [
    "## Part 1.2\n",
    "\n",
    "Now, we'll look at changing a variable from one type to another.  For example, look at myName above.  Right now that's a type of string, but let's use a different type.  In my case, I'll change it to a float.  So, for your other two variables (defined in 1.1), reassign and re-output like before.  Pick different types."
   ],
   "metadata": {
    "collapsed": false,
    "pycharm": {
     "name": "#%% md\n"
    }
   }
  },
  {
   "cell_type": "code",
   "execution_count": 3,
   "outputs": [
    {
     "name": "stdout",
     "output_type": "stream",
     "text": [
      "The variable, myName, is defined as 120.1519 and is of type <class 'float'>\n"
     ]
    }
   ],
   "source": [
    "myName = 120.1519\n",
    "print(f\"The variable, myName, is defined as {myName} and is of type {type(myName)}\")"
   ],
   "metadata": {
    "collapsed": false,
    "pycharm": {
     "name": "#%%\n"
    }
   }
  },
  {
   "cell_type": "markdown",
   "source": [
    "## Part 2 - Running out of order\n",
    "One issue that you'll likely run into at least a dozen or so times (if not more like hundreds long term), is the fact that you'll end up seeing unexpected results as you're working with a notebook.  We'll demonstrate this now.\n",
    "\n",
    "In the following cell (after example), take a variable you defined previously, and print it out.  Remember, you can put the variable, by itself, and have it print the results without needing a print statement (the last statement in a block will print, if applicable).\n",
    "\n",
    "Then, rerun the cell where you for the corresponding variable in 1.1.  Then rerun the cell below to see how the variable changes.  Look at this in comparison to what the output was in 1.2\n",
    "\n",
    "Below is an example, do your test after"
   ],
   "metadata": {
    "collapsed": false,
    "pycharm": {
     "name": "#%% md\n"
    }
   }
  },
  {
   "cell_type": "code",
   "execution_count": 4,
   "outputs": [
    {
     "data": {
      "text/plain": "120.1519"
     },
     "execution_count": 4,
     "metadata": {},
     "output_type": "execute_result"
    }
   ],
   "source": [
    "myName"
   ],
   "metadata": {
    "collapsed": false,
    "pycharm": {
     "name": "#%%\n"
    }
   }
  },
  {
   "cell_type": "code",
   "execution_count": 4,
   "outputs": [],
   "source": [],
   "metadata": {
    "collapsed": false,
    "pycharm": {
     "name": "#%%\n"
    }
   }
  },
  {
   "cell_type": "markdown",
   "source": [
    "## Part 2 - Running out of order (cont.)\n",
    "You should notice the value is different than expected.  Be sure to pay special attention to the number besides the code cells to figure out what was run, and the order of it (incrementing order)\n",
    "\n",
    "Before going on, lets solve the out of order issue.  At this point, please restart the kernel and run from start to finish (run all).  Look at how your value changes, and how the number change.\n",
    "\n",
    "## Part 3 - Operator Practice\n",
    "In this part, we'll go through some operators, and practice them.  I've defined some variables for you already, and we'll use them going forward.  Please do not reassign/overwrite these variables.  Each operator practice should be in individual blocks.  The first example is provided."
   ],
   "metadata": {
    "collapsed": false,
    "pycharm": {
     "name": "#%% md\n"
    }
   }
  },
  {
   "cell_type": "code",
   "execution_count": 5,
   "outputs": [],
   "source": [
    "valueOne = 505\n",
    "valueTwo = True\n",
    "valueThree = 15.342\n",
    "valueFour = \"Fuzzy bear\""
   ],
   "metadata": {
    "collapsed": false,
    "pycharm": {
     "name": "#%%\n"
    }
   }
  },
  {
   "cell_type": "code",
   "execution_count": 6,
   "outputs": [
    {
     "data": {
      "text/plain": "520.342"
     },
     "execution_count": 6,
     "metadata": {},
     "output_type": "execute_result"
    }
   ],
   "source": [
    "# Add valueOne to valueThree\n",
    "valueOne + valueThree"
   ],
   "metadata": {
    "collapsed": false,
    "pycharm": {
     "name": "#%%\n"
    }
   }
  },
  {
   "cell_type": "code",
   "execution_count": 6,
   "outputs": [],
   "source": [
    "# Subtract valueThree from valueOne"
   ],
   "metadata": {
    "collapsed": false,
    "pycharm": {
     "name": "#%%\n"
    }
   }
  },
  {
   "cell_type": "code",
   "execution_count": null,
   "outputs": [],
   "source": [
    "# Add valueOne to valueThree and concatenate it to valueFour\n",
    "# The result should be: \"520.342 Fuzzy bear\""
   ],
   "metadata": {
    "collapsed": false,
    "pycharm": {
     "name": "#%%\n"
    }
   }
  },
  {
   "cell_type": "code",
   "execution_count": 7,
   "outputs": [
    {
     "data": {
      "text/plain": "520"
     },
     "execution_count": 7,
     "metadata": {},
     "output_type": "execute_result"
    }
   ],
   "source": [
    "# Cast valueThree to an int, and add it to valueOne\n",
    "# The result should be 520"
   ],
   "metadata": {
    "collapsed": false,
    "pycharm": {
     "name": "#%%\n"
    }
   }
  },
  {
   "cell_type": "code",
   "execution_count": null,
   "outputs": [],
   "source": [
    "# Cast valueTwo to an int, add it to valueOne\n",
    "# The result should be 506"
   ],
   "metadata": {
    "collapsed": false,
    "pycharm": {
     "name": "#%%\n"
    }
   }
  },
  {
   "cell_type": "code",
   "execution_count": 8,
   "outputs": [
    {
     "data": {
      "text/plain": "'valueOne => 505, valueTwo => True, valueThree => 15.342, valueFour => Fuzzy bear'"
     },
     "execution_count": 8,
     "metadata": {},
     "output_type": "execute_result"
    }
   ],
   "source": [
    "# Using an F-string, and without the print statement, generate a string that has the following result:\n",
    "# 'valueOne => 505, valueTwo => True, valueThree => 15.342, valueFour => Fuzzy bear'"
   ],
   "metadata": {
    "collapsed": false,
    "pycharm": {
     "name": "#%%\n"
    }
   }
  },
  {
   "cell_type": "markdown",
   "source": [
    "## Part 4 - Boolean Practice\n",
    "Booleans\n",
    "\n"
   ],
   "metadata": {
    "collapsed": false,
    "pycharm": {
     "name": "#%% md\n"
    }
   }
  }
 ],
 "metadata": {
  "kernelspec": {
   "display_name": "Python 3",
   "language": "python",
   "name": "python3"
  },
  "language_info": {
   "codemirror_mode": {
    "name": "ipython",
    "version": 2
   },
   "file_extension": ".py",
   "mimetype": "text/x-python",
   "name": "python",
   "nbconvert_exporter": "python",
   "pygments_lexer": "ipython2",
   "version": "2.7.6"
  }
 },
 "nbformat": 4,
 "nbformat_minor": 0
}